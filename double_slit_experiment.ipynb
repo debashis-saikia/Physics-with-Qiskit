{
  "nbformat": 4,
  "nbformat_minor": 0,
  "metadata": {
    "colab": {
      "provenance": []
    },
    "kernelspec": {
      "name": "python3",
      "display_name": "Python 3"
    },
    "language_info": {
      "name": "python"
    }
  },
  "cells": [
    {
      "cell_type": "markdown",
      "source": [
        "The **double slit experiment** is one of the most fundamental demonstrations of the difference between classical and quantum behavior. In *1803*, **Thomas Young** on his famous paper, \"**Experiments and calculations relative to physical optics**\", first proposed the famous double slit experiment.\n",
        "\n",
        "In the classical world, things are either here or there. A ball goes through one hole or the other – simple. But in the quantum world, particles act like waves and can interfere with themselves. It can behave as if it goes through both slits simultaneously. This results in an interference pattern, even when particles are sent one at a time.\n",
        "\n",
        "In this notebook, we’ll simulate the double slit experiment using **Qiskit**. While we won’t use physical slits or particles, we’ll model the quantum behavior using qubits and quantum gates. This gives us a way to explore how interference and superposition can emerge in a quantum system."
      ],
      "metadata": {
        "id": "0TVWvfAj_BEG"
      }
    },
    {
      "cell_type": "code",
      "execution_count": null,
      "metadata": {
        "id": "n6uXHjQ0BjHz"
      },
      "outputs": [],
      "source": [
        "%pip install qiskit\n",
        "%pip install qiskit-aer"
      ]
    },
    {
      "cell_type": "code",
      "source": [
        "%pip install pylatexenc"
      ],
      "metadata": {
        "id": "kmo5q70z82a2"
      },
      "execution_count": null,
      "outputs": []
    },
    {
      "cell_type": "code",
      "source": [
        "from qiskit import QuantumCircuit, QuantumRegister, ClassicalRegister\n",
        "from qiskit.circuit import Parameter\n",
        "from qiskit.visualization import plot_histogram, plot_distribution\n",
        "from qiskit_ibm_runtime import Options, Session, SamplerV2 as Sampler\n",
        "from qiskit.result import marginal_distribution\n",
        "\n",
        "from qiskit.transpiler import generate_preset_pass_manager\n",
        "from qiskit_ibm_runtime import QiskitRuntimeService\n",
        "from qiskit_aer import AerSimulator\n",
        "\n",
        "import pylatexenc"
      ],
      "metadata": {
        "id": "YRkPOzZhBtoQ"
      },
      "execution_count": 6,
      "outputs": []
    },
    {
      "cell_type": "code",
      "source": [
        "particle = QuantumRegister(1, name='particle')\n",
        "screen = ClassicalRegister(1, name='screen')"
      ],
      "metadata": {
        "id": "yzMN0_miB34p"
      },
      "execution_count": 16,
      "outputs": []
    },
    {
      "cell_type": "code",
      "source": [
        "theta = Parameter('θ')"
      ],
      "metadata": {
        "id": "DMDaiIFKAJiN"
      },
      "execution_count": 17,
      "outputs": []
    },
    {
      "cell_type": "code",
      "source": [
        "double_slit = QuantumCircuit(particle, screen)\n",
        "double_slit.h(particle)\n",
        "double_slit.barrier()\n",
        "double_slit.p(theta, particle)\n",
        "double_slit.barrier()\n",
        "double_slit.h(particle)"
      ],
      "metadata": {
        "colab": {
          "base_uri": "https://localhost:8080/"
        },
        "id": "JZGaPkwKAMio",
        "outputId": "84f17a22-04b4-46e8-cf48-d1baf4958f70"
      },
      "execution_count": 22,
      "outputs": [
        {
          "output_type": "execute_result",
          "data": {
            "text/plain": [
              "<qiskit.circuit.instructionset.InstructionSet at 0x7bf2ee9fdfc0>"
            ]
          },
          "metadata": {},
          "execution_count": 22
        }
      ]
    },
    {
      "cell_type": "code",
      "source": [
        "double_slit.draw('mpl', style = 'clifford')"
      ],
      "metadata": {
        "colab": {
          "base_uri": "https://localhost:8080/",
          "height": 191
        },
        "id": "aZAeOEwvATN7",
        "outputId": "5ebbe999-df4c-4b07-d063-0a53af92237e"
      },
      "execution_count": 23,
      "outputs": [
        {
          "output_type": "execute_result",
          "data": {
            "text/plain": [
              "<Figure size 611.242x200.667 with 1 Axes>"
            ],
            "image/png": "[encoded data removed]"
          },
          "metadata": {},
          "execution_count": 23
        }
      ]
    },
    {
      "cell_type": "code",
      "source": [
        "double_slit.measure(particle, screen)\n",
        "double_slit.draw('mpl', style = 'clifford')"
      ],
      "metadata": {
        "colab": {
          "base_uri": "https://localhost:8080/",
          "height": 191
        },
        "id": "C4vh8z7xAhaJ",
        "outputId": "d6f54a3b-4578-41f3-a710-a5265745db95"
      },
      "execution_count": 24,
      "outputs": [
        {
          "output_type": "execute_result",
          "data": {
            "text/plain": [
              "<Figure size 694.853x200.667 with 1 Axes>"
            ],
            "image/png": "[encoded data removed]"
          },
          "metadata": {},
          "execution_count": 24
        }
      ]
    },
    {
      "cell_type": "code",
      "source": [
        "backend = AerSimulator()\n",
        "sampler = Sampler(mode=backend)"
      ],
      "metadata": {
        "id": "p99lhCZnCL8H"
      },
      "execution_count": 33,
      "outputs": []
    },
    {
      "cell_type": "code",
      "source": [
        "theta_list = np.linspace(-4*np.pi, 4*np.pi, 1000)\n",
        "pm = generate_preset_pass_manager(backend = AerSimulator(), optimization_level=3)\n",
        "qc_isa = pm.run(double_slit)\n",
        "dist = sampler.run([(qc_isa, theta_list)], shots = 10000).result()[0].data.screen\n",
        "\n",
        "probability = []\n",
        "\n",
        "for i in range(len(theta_list)):\n",
        "  result = dist[i].get_counts()\n",
        "  if '0' in result:\n",
        "    p = result['0']/10000\n",
        "    probability.append(p)\n",
        "  else:\n",
        "    probability.append(0)\n",
        "\n",
        "print(probability)"
      ],
      "metadata": {
        "colab": {
          "base_uri": "https://localhost:8080/"
        },
        "id": "jrth7fnJA3vH",
        "outputId": "a4ef1b74-06ec-4e99-9531-eee32c2b7d6e"
      },
      "execution_count": 48,
      "outputs": [
        {
          "output_type": "stream",
          "name": "stdout",
          "text": [
            "[1.0, 0.9995, 0.9994, 0.9985, 0.9973, 0.9962, 0.9948, 0.9922, 0.991, 0.9858, 0.9849, 0.9811, 0.9776, 0.9707, 0.9715, 0.9652, 0.9602, 0.9547, 0.9505, 0.9434, 0.939, 0.9287, 0.9228, 0.9167, 0.9105, 0.8986, 0.8997, 0.8878, 0.8844, 0.8721, 0.863, 0.8577, 0.8459, 0.8316, 0.8315, 0.8208, 0.8116, 0.8006, 0.7862, 0.7755, 0.7654, 0.7593, 0.7421, 0.7288, 0.7233, 0.7152, 0.7029, 0.6965, 0.6754, 0.6657, 0.6507, 0.6412, 0.6317, 0.6135, 0.606, 0.5954, 0.5773, 0.5672, 0.5648, 0.5536, 0.5362, 0.5112, 0.4961, 0.4907, 0.4754, 0.4551, 0.4487, 0.4488, 0.4375, 0.4237, 0.4032, 0.3933, 0.3808, 0.3739, 0.3455, 0.3431, 0.3327, 0.324, 0.3171, 0.3056, 0.2865, 0.2717, 0.2672, 0.2558, 0.2366, 0.2293, 0.223, 0.2072, 0.2029, 0.1902, 0.1784, 0.1708, 0.1606, 0.1483, 0.1444, 0.1374, 0.1286, 0.1204, 0.113, 0.1061, 0.0956, 0.0883, 0.0785, 0.0771, 0.0651, 0.057, 0.055, 0.0497, 0.0469, 0.0393, 0.0338, 0.0282, 0.0253, 0.0215, 0.0163, 0.016, 0.0115, 0.0107, 0.0068, 0.0042, 0.0037, 0.0023, 0.0016, 0.0007, 0.0002, 0, 0.0002, 0.0014, 0.002, 0.0035, 0.0043, 0.0055, 0.0095, 0.0097, 0.0135, 0.0175, 0.0187, 0.0236, 0.0292, 0.0319, 0.0367, 0.0423, 0.0452, 0.0472, 0.055, 0.0638, 0.0682, 0.0751, 0.0822, 0.0884, 0.0938, 0.1034, 0.1124, 0.1221, 0.1235, 0.1373, 0.1378, 0.1556, 0.1618, 0.1701, 0.178, 0.1887, 0.2044, 0.2137, 0.2174, 0.2279, 0.2386, 0.2545, 0.2702, 0.2737, 0.2812, 0.3093, 0.3053, 0.3296, 0.3434, 0.3464, 0.3585, 0.3694, 0.3794, 0.385, 0.4083, 0.4182, 0.4346, 0.4454, 0.4585, 0.4548, 0.4826, 0.4942, 0.5074, 0.5208, 0.5288, 0.5532, 0.5564, 0.5789, 0.5876, 0.596, 0.6116, 0.6278, 0.6276, 0.6423, 0.6527, 0.6637, 0.6856, 0.6857, 0.7, 0.7152, 0.722, 0.7369, 0.7452, 0.7551, 0.7626, 0.7761, 0.7963, 0.804, 0.8085, 0.8206, 0.8337, 0.8411, 0.852, 0.8595, 0.869, 0.8782, 0.8834, 0.8876, 0.8942, 0.9112, 0.9179, 0.9224, 0.9282, 0.9398, 0.9436, 0.9433, 0.9533, 0.9541, 0.9633, 0.9642, 0.9734, 0.9753, 0.978, 0.984, 0.9854, 0.9867, 0.9919, 0.9928, 0.9953, 0.9959, 0.9979, 0.9991, 0.9997, 1.0, 1.0, 0.9997, 0.9995, 0.9988, 0.9966, 0.9955, 0.9935, 0.9922, 0.9901, 0.988, 0.9824, 0.9794, 0.9761, 0.9722, 0.9644, 0.9626, 0.9581, 0.9547, 0.9477, 0.943, 0.937, 0.9243, 0.9275, 0.9187, 0.9085, 0.907, 0.893, 0.8844, 0.8794, 0.8639, 0.8591, 0.8519, 0.8426, 0.8387, 0.8303, 0.8157, 0.8065, 0.7924, 0.7902, 0.7776, 0.7657, 0.7534, 0.7421, 0.7271, 0.7143, 0.7013, 0.6994, 0.6776, 0.6694, 0.6624, 0.6481, 0.6433, 0.6182, 0.614, 0.6054, 0.5901, 0.5775, 0.5564, 0.5548, 0.5376, 0.5299, 0.5169, 0.4982, 0.4873, 0.4806, 0.4626, 0.4561, 0.4433, 0.4302, 0.408, 0.4092, 0.392, 0.371, 0.3644, 0.3595, 0.3378, 0.3269, 0.3175, 0.3025, 0.2984, 0.2888, 0.275, 0.266, 0.2521, 0.2386, 0.2216, 0.2164, 0.2073, 0.2033, 0.1883, 0.179, 0.1729, 0.1661, 0.1508, 0.1456, 0.1365, 0.1176, 0.1181, 0.1081, 0.1048, 0.092, 0.0855, 0.079, 0.0734, 0.0658, 0.0581, 0.0545, 0.0505, 0.0434, 0.036, 0.0336, 0.031, 0.0278, 0.0229, 0.0189, 0.0156, 0.0108, 0.0103, 0.0073, 0.0049, 0.0036, 0.0009, 0.001, 0.0003, 0.0002, 0, 0.0002, 0.0008, 0.0014, 0.002, 0.0041, 0.0066, 0.0075, 0.012, 0.0111, 0.0192, 0.0191, 0.0251, 0.0279, 0.0347, 0.0386, 0.0424, 0.0463, 0.0523, 0.0605, 0.0628, 0.0708, 0.0746, 0.0824, 0.0919, 0.0979, 0.1045, 0.1147, 0.1235, 0.1333, 0.1397, 0.1403, 0.1603, 0.1708, 0.1745, 0.185, 0.1969, 0.2105, 0.2091, 0.231, 0.2284, 0.2483, 0.2518, 0.2752, 0.2813, 0.2841, 0.3073, 0.3238, 0.3368, 0.3442, 0.3552, 0.3681, 0.3701, 0.3849, 0.3987, 0.4077, 0.4275, 0.4395, 0.4509, 0.4583, 0.4686, 0.4926, 0.5035, 0.5099, 0.5174, 0.5359, 0.5458, 0.5533, 0.5778, 0.5836, 0.6046, 0.6083, 0.6178, 0.6347, 0.6601, 0.6612, 0.6693, 0.6839, 0.6933, 0.7057, 0.7216, 0.7271, 0.7336, 0.7508, 0.7633, 0.7739, 0.7837, 0.7913, 0.8056, 0.8127, 0.8236, 0.8278, 0.8443, 0.8455, 0.8585, 0.8679, 0.8729, 0.8845, 0.8891, 0.8981, 0.9041, 0.9147, 0.9192, 0.9296, 0.9366, 0.9414, 0.9487, 0.9543, 0.9601, 0.9629, 0.9657, 0.973, 0.9732, 0.9801, 0.9846, 0.9881, 0.9869, 0.9917, 0.9936, 0.9959, 0.997, 0.9973, 0.9992, 0.9997, 0.9998, 1.0, 0.9999, 0.9994, 0.9979, 0.9967, 0.9958, 0.9935, 0.9922, 0.9888, 0.985, 0.9799, 0.9778, 0.9757, 0.9723, 0.9673, 0.9634, 0.9589, 0.9512, 0.941, 0.9374, 0.9383, 0.9311, 0.9203, 0.9204, 0.9071, 0.9032, 0.8969, 0.8806, 0.8766, 0.865, 0.8574, 0.8527, 0.8431, 0.8322, 0.827, 0.8065, 0.8061, 0.7987, 0.7842, 0.7767, 0.7621, 0.7533, 0.7443, 0.7388, 0.7193, 0.7039, 0.6969, 0.6912, 0.6691, 0.6608, 0.6547, 0.6321, 0.6336, 0.6139, 0.5992, 0.592, 0.5717, 0.5636, 0.555, 0.5349, 0.5171, 0.5169, 0.4984, 0.4901, 0.47, 0.4573, 0.4427, 0.4291, 0.4198, 0.4174, 0.3862, 0.3926, 0.3728, 0.3648, 0.3578, 0.347, 0.3256, 0.3129, 0.3013, 0.2804, 0.2897, 0.2715, 0.256, 0.2438, 0.2326, 0.2257, 0.2088, 0.2026, 0.1915, 0.1933, 0.1711, 0.1612, 0.1527, 0.1457, 0.1399, 0.1291, 0.1212, 0.1106, 0.1025, 0.0981, 0.0914, 0.0785, 0.0779, 0.0733, 0.0674, 0.0597, 0.0557, 0.045, 0.0453, 0.0369, 0.0329, 0.0291, 0.0238, 0.0209, 0.0179, 0.0132, 0.0092, 0.0079, 0.0068, 0.0038, 0.0033, 0.0021, 0.0008, 0.0006, 0, 0, 0.0002, 0.0015, 0.0023, 0.0026, 0.0045, 0.0074, 0.0098, 0.0118, 0.0134, 0.0187, 0.0193, 0.0266, 0.0284, 0.0325, 0.0367, 0.0477, 0.05, 0.0535, 0.0571, 0.0654, 0.0725, 0.0789, 0.0867, 0.0916, 0.1005, 0.1099, 0.1155, 0.1241, 0.128, 0.1421, 0.1475, 0.1565, 0.1671, 0.1845, 0.1951, 0.1966, 0.2094, 0.2145, 0.2358, 0.2387, 0.2506, 0.2724, 0.2755, 0.2816, 0.3012, 0.3019, 0.3199, 0.3264, 0.3409, 0.3482, 0.3612, 0.3779, 0.3886, 0.4069, 0.4176, 0.4252, 0.4372, 0.4534, 0.4727, 0.4744, 0.4896, 0.495, 0.5184, 0.528, 0.54, 0.5587, 0.5688, 0.5795, 0.5965, 0.601, 0.6152, 0.625, 0.6421, 0.6544, 0.6592, 0.6701, 0.6844, 0.6997, 0.7084, 0.7261, 0.7326, 0.7444, 0.7521, 0.7578, 0.772, 0.7823, 0.7918, 0.8051, 0.8101, 0.8182, 0.8328, 0.8438, 0.8527, 0.8636, 0.8667, 0.8785, 0.8886, 0.8968, 0.9026, 0.9129, 0.9164, 0.9261, 0.9251, 0.938, 0.9427, 0.9501, 0.9526, 0.958, 0.9612, 0.9687, 0.9738, 0.9771, 0.9802, 0.9839, 0.9856, 0.9886, 0.992, 0.9933, 0.9955, 0.9967, 0.9987, 0.9991, 0.9996, 1.0, 1.0, 0.9998, 0.9986, 0.9973, 0.9967, 0.9951, 0.9932, 0.9909, 0.99, 0.9858, 0.9805, 0.9804, 0.9716, 0.9708, 0.9643, 0.9592, 0.9552, 0.9529, 0.9426, 0.9401, 0.9318, 0.928, 0.9198, 0.9171, 0.9039, 0.8965, 0.8878, 0.8866, 0.8747, 0.8649, 0.8601, 0.8479, 0.8395, 0.8289, 0.8189, 0.8132, 0.7971, 0.7895, 0.7927, 0.7721, 0.7582, 0.7565, 0.7362, 0.7232, 0.7084, 0.7049, 0.6945, 0.6912, 0.6693, 0.6573, 0.6512, 0.6291, 0.6218, 0.6017, 0.5978, 0.5813, 0.578, 0.5611, 0.5458, 0.5287, 0.5208, 0.5087, 0.4959, 0.488, 0.4649, 0.4544, 0.4432, 0.4349, 0.4159, 0.4079, 0.3876, 0.3821, 0.3737, 0.3607, 0.3558, 0.3297, 0.3262, 0.3088, 0.3048, 0.2854, 0.2764, 0.2703, 0.2543, 0.2482, 0.2342, 0.2237, 0.2142, 0.205, 0.1913, 0.1822, 0.1728, 0.1656, 0.1577, 0.1492, 0.1382, 0.1288, 0.1195, 0.113, 0.1041, 0.0976, 0.0869, 0.0792, 0.0743, 0.0695, 0.0634, 0.0543, 0.0502, 0.0435, 0.0433, 0.0361, 0.0314, 0.0257, 0.0246, 0.0213, 0.0163, 0.0132, 0.0095, 0.0081, 0.006, 0.0036, 0.003, 0.0021, 0.0005, 0.0002, 0, 0.0001, 0.0005, 0.0014, 0.0024, 0.0033, 0.0039, 0.0087, 0.0102, 0.0128, 0.0144, 0.0188, 0.0202, 0.027, 0.0317, 0.0335, 0.0362, 0.043, 0.0531, 0.0518, 0.0593, 0.0683, 0.0742, 0.0847, 0.0869, 0.0894, 0.1014, 0.1136, 0.1111, 0.1235, 0.1333, 0.1398, 0.1549, 0.1632, 0.1721, 0.1864, 0.1921, 0.193, 0.2099, 0.2158, 0.2247, 0.2385, 0.252, 0.257, 0.2713, 0.2814, 0.2979, 0.3053, 0.3236, 0.3365, 0.3415, 0.3569, 0.3641, 0.3913, 0.3946, 0.4033, 0.4132, 0.4216, 0.4446, 0.456, 0.4644, 0.4797, 0.4917, 0.5104, 0.5214, 0.5347, 0.5393, 0.5543, 0.5722, 0.5816, 0.5941, 0.6097, 0.6178, 0.6364, 0.6384, 0.6534, 0.6645, 0.6712, 0.687, 0.6992, 0.7199, 0.7267, 0.7335, 0.7474, 0.7564, 0.7698, 0.7741, 0.7789, 0.7888, 0.8124, 0.8162, 0.8269, 0.8421, 0.8446, 0.858, 0.8641, 0.8725, 0.8847, 0.8932, 0.9002, 0.9003, 0.9074, 0.9178, 0.9288, 0.9374, 0.9366, 0.946, 0.9488, 0.9539, 0.9554, 0.9647, 0.968, 0.9732, 0.9755, 0.9801, 0.9826, 0.9889, 0.9896, 0.9923, 0.9939, 0.9946, 0.9968, 0.9984, 0.9996, 0.9998, 1.0]\n"
          ]
        }
      ]
    },
    {
      "cell_type": "code",
      "source": [
        "plt.figure(figsize=(10, 2))\n",
        "probability_2d = np.array(probability).reshape(1, 1000)\n",
        "plt.imshow(probability_2d, cmap='gray', aspect='auto', extent=[-4*np.pi, 4*np.pi, 0, 1])\n",
        "\n",
        "plt.xlabel('φ (Phase difference)', fontsize=14)\n",
        "plt.colorbar(label='prob')\n",
        "plt.xticks(ticks=[-4*np.pi, -3*np.pi, -2*np.pi, -np.pi, 0, np.pi, 2*np.pi, 3*np.pi, 4*np.pi],\n",
        "           labels=['-4π', '-3π', '-2π', '-π', '0', 'π', '2π', '3π', '4π'])\n",
        "plt.yticks([])\n",
        "plt.show()"
      ],
      "metadata": {
        "colab": {
          "base_uri": "https://localhost:8080/",
          "height": 244
        },
        "id": "oU9ypNaMDaSo",
        "outputId": "fa8a3c98-682f-4045-d69b-c7893f75644c"
      },
      "execution_count": 49,
      "outputs": [
        {
          "output_type": "display_data",
          "data": {
            "text/plain": [
              "<Figure size 1000x200 with 2 Axes>"
            ],
            "image/png": "[encoded data removed]"
          },
          "metadata": {}
        }
      ]
    },
    {
      "cell_type": "code",
      "source": [],
      "metadata": {
        "id": "Ei_QoQQBE_gq"
      },
      "execution_count": null,
      "outputs": []
    }
  ]
}
